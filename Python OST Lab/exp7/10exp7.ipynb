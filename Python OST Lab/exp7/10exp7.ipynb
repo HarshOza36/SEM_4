{
 "cells": [
  {
   "cell_type": "code",
   "execution_count": 11,
   "metadata": {},
   "outputs": [
    {
     "data": {
      "text/plain": [
       "<sqlite3.Cursor at 0x1a065b1b810>"
      ]
     },
     "execution_count": 11,
     "metadata": {},
     "output_type": "execute_result"
    }
   ],
   "source": [
    "import sqlite3\n",
    "conn=sqlite3.connect(\"Harshh.db\")\n",
    "conn.execute('''create table oostexp (id int primary key,nm char(20) not null,age int not null,marks int not null)''')\n",
    "conn.execute('''insert into oostexp (id,nm,age,marks) values(1,'asd',20,89)''')"
   ]
  },
  {
   "cell_type": "code",
   "execution_count": 12,
   "metadata": {
    "scrolled": true
   },
   "outputs": [
    {
     "data": {
      "text/plain": [
       "<sqlite3.Cursor at 0x1a065b9cb20>"
      ]
     },
     "execution_count": 12,
     "metadata": {},
     "output_type": "execute_result"
    }
   ],
   "source": [
    "conn.execute('''insert into oostexp (id,nm,age,marks) values(2,'asddd',21,88)''')\n",
    "conn.execute('''insert into oostexp (id,nm,age,marks) values(3,'as2dd',22,87)''')\n",
    "conn.execute('''insert into oostexp (id,nm,age,marks) values(4,'asqwed',23,86)''')\n",
    "conn.execute('''insert into oostexp (id,nm,age,marks) values(5,'astyrytrd',24,85)''')\n",
    "conn.execute('''insert into oostexp (id,nm,age,marks) values(6,'asasdasdd',25,86)''')"
   ]
  },
  {
   "cell_type": "code",
   "execution_count": 16,
   "metadata": {},
   "outputs": [
    {
     "name": "stdout",
     "output_type": "stream",
     "text": [
      "id= 1\n",
      "nm= asd\n",
      "age= 20\n",
      "marks 89\n",
      "id= 2\n",
      "nm= asddd\n",
      "age= 21\n",
      "marks 88\n",
      "id= 3\n",
      "nm= as2dd\n",
      "age= 22\n",
      "marks 87\n",
      "id= 4\n",
      "nm= asqwed\n",
      "age= 23\n",
      "marks 86\n",
      "id= 5\n",
      "nm= astyrytrd\n",
      "age= 24\n",
      "marks 85\n",
      "id= 6\n",
      "nm= asasdasdd\n",
      "age= 25\n",
      "marks 86\n"
     ]
    }
   ],
   "source": [
    "cursor=conn.execute('''select id,nm,age,marks from oostexp''')\n",
    "for row in cursor:\n",
    "    print(\"id=\",row[0])\n",
    "    print(\"nm=\",row[1])\n",
    "    print(\"age=\",row[2])\n",
    "    print(\"marks\",row[3])"
   ]
  },
  {
   "cell_type": "code",
   "execution_count": 19,
   "metadata": {},
   "outputs": [],
   "source": [
    "conn.execute(\"Update oostexp set age=40 where id=1\")\n",
    "conn.commit()"
   ]
  },
  {
   "cell_type": "code",
   "execution_count": 20,
   "metadata": {},
   "outputs": [
    {
     "name": "stdout",
     "output_type": "stream",
     "text": [
      "id= 1\n",
      "nm= asd\n",
      "age= 40\n",
      "marks 89\n",
      "id= 2\n",
      "nm= asddd\n",
      "age= 21\n",
      "marks 88\n",
      "id= 3\n",
      "nm= as2dd\n",
      "age= 22\n",
      "marks 87\n",
      "id= 4\n",
      "nm= asqwed\n",
      "age= 23\n",
      "marks 86\n",
      "id= 5\n",
      "nm= astyrytrd\n",
      "age= 24\n",
      "marks 85\n",
      "id= 6\n",
      "nm= asasdasdd\n",
      "age= 25\n",
      "marks 86\n"
     ]
    }
   ],
   "source": [
    "cursor=conn.execute('''select id,nm,age,marks from oostexp''')\n",
    "for row in cursor:\n",
    "    print(\"id=\",row[0])\n",
    "    print(\"nm=\",row[1])\n",
    "    print(\"age=\",row[2])\n",
    "    print(\"marks\",row[3])"
   ]
  },
  {
   "cell_type": "code",
   "execution_count": 21,
   "metadata": {},
   "outputs": [],
   "source": [
    "conn.execute(\"Delete from oostexp where id=2\")\n",
    "conn.commit()"
   ]
  },
  {
   "cell_type": "code",
   "execution_count": 22,
   "metadata": {},
   "outputs": [
    {
     "name": "stdout",
     "output_type": "stream",
     "text": [
      "id= 1\n",
      "nm= asd\n",
      "age= 40\n",
      "marks 89\n",
      "id= 3\n",
      "nm= as2dd\n",
      "age= 22\n",
      "marks 87\n",
      "id= 4\n",
      "nm= asqwed\n",
      "age= 23\n",
      "marks 86\n",
      "id= 5\n",
      "nm= astyrytrd\n",
      "age= 24\n",
      "marks 85\n",
      "id= 6\n",
      "nm= asasdasdd\n",
      "age= 25\n",
      "marks 86\n"
     ]
    }
   ],
   "source": [
    "cursor=conn.execute('''select id,nm,age,marks from oostexp''')\n",
    "for row in cursor:\n",
    "    print(\"id=\",row[0])\n",
    "    print(\"nm=\",row[1])\n",
    "    print(\"age=\",row[2])\n",
    "    print(\"marks\",row[3])"
   ]
  },
  {
   "cell_type": "code",
   "execution_count": null,
   "metadata": {},
   "outputs": [],
   "source": []
  }
 ],
 "metadata": {
  "kernelspec": {
   "display_name": "Python 3",
   "language": "python",
   "name": "python3"
  },
  "language_info": {
   "codemirror_mode": {
    "name": "ipython",
    "version": 3
   },
   "file_extension": ".py",
   "mimetype": "text/x-python",
   "name": "python",
   "nbconvert_exporter": "python",
   "pygments_lexer": "ipython3",
   "version": "3.6.5"
  }
 },
 "nbformat": 4,
 "nbformat_minor": 2
}
